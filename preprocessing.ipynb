{
 "cells": [
  {
   "cell_type": "markdown",
   "id": "ddfb37ea",
   "metadata": {},
   "source": [
    "# Data Preprocessing\n",
    "\n",
    "In this notebook we perform loading, preprocessing and saving of processed Bixi bike history data.\n",
    "\n",
    "In order for the loading to work, all raw Bixi *.csv* files must be stored inside the '*/data/raw/*' directory. Processed data files are saved into the '*/data/*' directory.\n",
    "\n",
    "Required imports:"
   ]
  },
  {
   "cell_type": "code",
   "execution_count": 1,
   "id": "83206aa8",
   "metadata": {},
   "outputs": [],
   "source": [
    "import glob\n",
    "import numpy as np\n",
    "import pandas as pd\n",
    "import matplotlib.pyplot as plt"
   ]
  },
  {
   "cell_type": "markdown",
   "id": "357af3b0",
   "metadata": {},
   "source": [
    "<div style=\"border-bottom: 3px solid black; margin-bottom:5px\"></div>\n",
    "<div style=\"border-bottom: 3px solid black\"></div>\n",
    "\n",
    "## Loading the Time-Series Data\n",
    "\n",
    "Load the bixi trip history data and combine it into a single Pandas DataFrame.\n",
    "\n",
    "Assumes that all *.csv* files are inside the *data/raw/* directory relative to the notebook.\n",
    "\n",
    "**Note**: importing uses string *dtype* for station IDs because there is one station that does not have an integer ID. Alternatively, we could just find the station in the data files and remove it."
   ]
  },
  {
   "cell_type": "code",
   "execution_count": 2,
   "id": "00c270cf",
   "metadata": {},
   "outputs": [],
   "source": [
    "# Get all raw data .csv files excluding the station files\n",
    "filenames = glob.glob('data/raw/OD_*.csv')\n",
    "\n",
    "# Load each file and merge into a single data_frame\n",
    "bixi_df = pd.concat(pd.read_csv(f, index_col='start_date', \n",
    "                                   parse_dates=['start_date', 'end_date'],\n",
    "                                   dtype={'start_station_code': str, 'end_station_code': str}) \n",
    "                                   for f in sorted(filenames))"
   ]
  },
  {
   "cell_type": "code",
   "execution_count": 3,
   "id": "286ba5ae",
   "metadata": {},
   "outputs": [
    {
     "data": {
      "text/html": [
       "<div>\n",
       "<style scoped>\n",
       "    .dataframe tbody tr th:only-of-type {\n",
       "        vertical-align: middle;\n",
       "    }\n",
       "\n",
       "    .dataframe tbody tr th {\n",
       "        vertical-align: top;\n",
       "    }\n",
       "\n",
       "    .dataframe thead th {\n",
       "        text-align: right;\n",
       "    }\n",
       "</style>\n",
       "<table border=\"1\" class=\"dataframe\">\n",
       "  <thead>\n",
       "    <tr style=\"text-align: right;\">\n",
       "      <th></th>\n",
       "      <th>start_station_code</th>\n",
       "      <th>end_date</th>\n",
       "      <th>end_station_code</th>\n",
       "      <th>duration_sec</th>\n",
       "      <th>is_member</th>\n",
       "    </tr>\n",
       "    <tr>\n",
       "      <th>start_date</th>\n",
       "      <th></th>\n",
       "      <th></th>\n",
       "      <th></th>\n",
       "      <th></th>\n",
       "      <th></th>\n",
       "    </tr>\n",
       "  </thead>\n",
       "  <tbody>\n",
       "    <tr>\n",
       "      <th>2014-04-15 00:01:00</th>\n",
       "      <td>6209</td>\n",
       "      <td>2014-04-15 00:18:00</td>\n",
       "      <td>6436</td>\n",
       "      <td>1061</td>\n",
       "      <td>1</td>\n",
       "    </tr>\n",
       "    <tr>\n",
       "      <th>2014-04-15 00:01:00</th>\n",
       "      <td>6214</td>\n",
       "      <td>2014-04-15 00:11:00</td>\n",
       "      <td>6248</td>\n",
       "      <td>615</td>\n",
       "      <td>1</td>\n",
       "    </tr>\n",
       "    <tr>\n",
       "      <th>2014-04-15 00:01:00</th>\n",
       "      <td>6164</td>\n",
       "      <td>2014-04-15 00:18:00</td>\n",
       "      <td>6216</td>\n",
       "      <td>1031</td>\n",
       "      <td>1</td>\n",
       "    </tr>\n",
       "    <tr>\n",
       "      <th>2014-04-15 00:01:00</th>\n",
       "      <td>6214</td>\n",
       "      <td>2014-04-15 00:24:00</td>\n",
       "      <td>6082</td>\n",
       "      <td>1382</td>\n",
       "      <td>1</td>\n",
       "    </tr>\n",
       "    <tr>\n",
       "      <th>2014-04-15 00:02:00</th>\n",
       "      <td>6149</td>\n",
       "      <td>2014-04-15 00:08:00</td>\n",
       "      <td>6265</td>\n",
       "      <td>347</td>\n",
       "      <td>1</td>\n",
       "    </tr>\n",
       "    <tr>\n",
       "      <th>...</th>\n",
       "      <td>...</td>\n",
       "      <td>...</td>\n",
       "      <td>...</td>\n",
       "      <td>...</td>\n",
       "      <td>...</td>\n",
       "    </tr>\n",
       "    <tr>\n",
       "      <th>2019-10-31 23:52:45</th>\n",
       "      <td>6901</td>\n",
       "      <td>2019-11-01 00:05:15</td>\n",
       "      <td>6063</td>\n",
       "      <td>749</td>\n",
       "      <td>1</td>\n",
       "    </tr>\n",
       "    <tr>\n",
       "      <th>2019-10-31 23:53:59</th>\n",
       "      <td>6218</td>\n",
       "      <td>2019-11-01 00:23:19</td>\n",
       "      <td>6269</td>\n",
       "      <td>1760</td>\n",
       "      <td>1</td>\n",
       "    </tr>\n",
       "    <tr>\n",
       "      <th>2019-10-31 23:55:26</th>\n",
       "      <td>7149</td>\n",
       "      <td>2019-11-01 00:11:33</td>\n",
       "      <td>6338</td>\n",
       "      <td>966</td>\n",
       "      <td>1</td>\n",
       "    </tr>\n",
       "    <tr>\n",
       "      <th>2019-10-31 23:56:28</th>\n",
       "      <td>6199</td>\n",
       "      <td>2019-11-01 00:09:13</td>\n",
       "      <td>6003</td>\n",
       "      <td>764</td>\n",
       "      <td>1</td>\n",
       "    </tr>\n",
       "    <tr>\n",
       "      <th>2019-10-31 23:56:38</th>\n",
       "      <td>7069</td>\n",
       "      <td>2019-11-01 00:00:58</td>\n",
       "      <td>6005</td>\n",
       "      <td>259</td>\n",
       "      <td>1</td>\n",
       "    </tr>\n",
       "  </tbody>\n",
       "</table>\n",
       "<p>26195982 rows × 5 columns</p>\n",
       "</div>"
      ],
      "text/plain": [
       "                    start_station_code            end_date end_station_code  \\\n",
       "start_date                                                                    \n",
       "2014-04-15 00:01:00               6209 2014-04-15 00:18:00             6436   \n",
       "2014-04-15 00:01:00               6214 2014-04-15 00:11:00             6248   \n",
       "2014-04-15 00:01:00               6164 2014-04-15 00:18:00             6216   \n",
       "2014-04-15 00:01:00               6214 2014-04-15 00:24:00             6082   \n",
       "2014-04-15 00:02:00               6149 2014-04-15 00:08:00             6265   \n",
       "...                                ...                 ...              ...   \n",
       "2019-10-31 23:52:45               6901 2019-11-01 00:05:15             6063   \n",
       "2019-10-31 23:53:59               6218 2019-11-01 00:23:19             6269   \n",
       "2019-10-31 23:55:26               7149 2019-11-01 00:11:33             6338   \n",
       "2019-10-31 23:56:28               6199 2019-11-01 00:09:13             6003   \n",
       "2019-10-31 23:56:38               7069 2019-11-01 00:00:58             6005   \n",
       "\n",
       "                     duration_sec  is_member  \n",
       "start_date                                    \n",
       "2014-04-15 00:01:00          1061          1  \n",
       "2014-04-15 00:01:00           615          1  \n",
       "2014-04-15 00:01:00          1031          1  \n",
       "2014-04-15 00:01:00          1382          1  \n",
       "2014-04-15 00:02:00           347          1  \n",
       "...                           ...        ...  \n",
       "2019-10-31 23:52:45           749          1  \n",
       "2019-10-31 23:53:59          1760          1  \n",
       "2019-10-31 23:55:26           966          1  \n",
       "2019-10-31 23:56:28           764          1  \n",
       "2019-10-31 23:56:38           259          1  \n",
       "\n",
       "[26195982 rows x 5 columns]"
      ]
     },
     "metadata": {},
     "output_type": "display_data"
    }
   ],
   "source": [
    "# Preview the dataframe\n",
    "display(bixi_df)"
   ]
  },
  {
   "cell_type": "code",
   "execution_count": 4,
   "id": "de8c45b0",
   "metadata": {},
   "outputs": [
    {
     "name": "stdout",
     "output_type": "stream",
     "text": [
      "Number of missing values per column:\n"
     ]
    },
    {
     "data": {
      "text/plain": [
       "start_station_code    0\n",
       "end_date              0\n",
       "end_station_code      0\n",
       "duration_sec          0\n",
       "is_member             0\n",
       "dtype: int64"
      ]
     },
     "metadata": {},
     "output_type": "display_data"
    }
   ],
   "source": [
    "# Check if there is any missing values in the data\n",
    "print(\"Number of missing values per column:\") \n",
    "display(bixi_df.isna().sum())"
   ]
  },
  {
   "cell_type": "markdown",
   "id": "bc63cb85",
   "metadata": {},
   "source": [
    "## Total Daily Trip History Data\n",
    "\n",
    "Compute and store the total dality trip history data across all stations."
   ]
  },
  {
   "cell_type": "code",
   "execution_count": 5,
   "id": "b88d3780",
   "metadata": {},
   "outputs": [
    {
     "data": {
      "text/html": [
       "<div>\n",
       "<style scoped>\n",
       "    .dataframe tbody tr th:only-of-type {\n",
       "        vertical-align: middle;\n",
       "    }\n",
       "\n",
       "    .dataframe tbody tr th {\n",
       "        vertical-align: top;\n",
       "    }\n",
       "\n",
       "    .dataframe thead th {\n",
       "        text-align: right;\n",
       "    }\n",
       "</style>\n",
       "<table border=\"1\" class=\"dataframe\">\n",
       "  <thead>\n",
       "    <tr style=\"text-align: right;\">\n",
       "      <th></th>\n",
       "      <th>trip_count</th>\n",
       "    </tr>\n",
       "    <tr>\n",
       "      <th>start_date</th>\n",
       "      <th></th>\n",
       "    </tr>\n",
       "  </thead>\n",
       "  <tbody>\n",
       "    <tr>\n",
       "      <th>2014-04-15</th>\n",
       "      <td>1577</td>\n",
       "    </tr>\n",
       "    <tr>\n",
       "      <th>2014-04-16</th>\n",
       "      <td>3180</td>\n",
       "    </tr>\n",
       "    <tr>\n",
       "      <th>2014-04-17</th>\n",
       "      <td>5852</td>\n",
       "    </tr>\n",
       "    <tr>\n",
       "      <th>2014-04-18</th>\n",
       "      <td>5325</td>\n",
       "    </tr>\n",
       "    <tr>\n",
       "      <th>2014-04-19</th>\n",
       "      <td>6031</td>\n",
       "    </tr>\n",
       "  </tbody>\n",
       "</table>\n",
       "</div>"
      ],
      "text/plain": [
       "            trip_count\n",
       "start_date            \n",
       "2014-04-15        1577\n",
       "2014-04-16        3180\n",
       "2014-04-17        5852\n",
       "2014-04-18        5325\n",
       "2014-04-19        6031"
      ]
     },
     "metadata": {},
     "output_type": "display_data"
    }
   ],
   "source": [
    "# Create a new DataFrame with only trip timestamps\n",
    "total_daily_trips = pd.DataFrame(index=bixi_df.index)\n",
    "\n",
    "# Add the trip_count column\n",
    "total_daily_trips.insert(0, 'trip_count', 1)\n",
    "                                 \n",
    "# Resample to daily frequency\n",
    "total_daily_trips = total_daily_trips.resample('D').sum()\n",
    "                                 \n",
    "# Preview the resampled data\n",
    "display(total_daily_trips.head())"
   ]
  },
  {
   "cell_type": "code",
   "execution_count": 6,
   "id": "a8f8a5cb",
   "metadata": {},
   "outputs": [],
   "source": [
    "# Save the data into a csv file\n",
    "total_daily_trips.to_csv('data/total_daily_trips.csv')"
   ]
  },
  {
   "cell_type": "markdown",
   "id": "cfacc194",
   "metadata": {},
   "source": [
    "## Station Daily Trip History Data\n",
    "\n",
    "Compute and store the daily bike demand (outgoing trip history) and dock demand (incoming trip history) data for a single station."
   ]
  },
  {
   "cell_type": "markdown",
   "id": "089fff3d",
   "metadata": {},
   "source": [
    "### Group by station\n",
    "\n",
    "We can group the data by either start or end station in order to create separate time-series for each station:\n",
    "* Grouping by start station allows us to estimate overall bike demand using the number of outgoing trips from the station\n",
    "* Grouping by end station allows us to estimate overall dock demand using the number of incoming trips to the station"
   ]
  },
  {
   "cell_type": "code",
   "execution_count": 7,
   "id": "17eb37a2",
   "metadata": {},
   "outputs": [],
   "source": [
    "# Group the data by start and end station\n",
    "bike_demand_gb = bixi_df.groupby('start_station_code')\n",
    "dock_demand_gb = bixi_df.groupby('end_station_code')"
   ]
  },
  {
   "cell_type": "markdown",
   "id": "82180f7f",
   "metadata": {},
   "source": [
    "### Extract and save station data\n",
    "\n",
    "Define helpers function to extract and save the daily trip data for a single station."
   ]
  },
  {
   "cell_type": "code",
   "execution_count": 8,
   "id": "5e84c7a6",
   "metadata": {},
   "outputs": [],
   "source": [
    "def extract_station_data(station_gb, station_id): \n",
    "    # Get the station data\n",
    "    station_data = station_gb.get_group(station_id)\n",
    "    \n",
    "    # Resample the data to daily frequency\n",
    "    station_data.insert(0, 'trip_count', 1)\n",
    "    station_data = station_data[['trip_count']]\n",
    "    station_data = station_data.resample('D').sum()\n",
    "\n",
    "    return station_data"
   ]
  },
  {
   "cell_type": "code",
   "execution_count": 9,
   "id": "7f1dd728",
   "metadata": {},
   "outputs": [],
   "source": [
    "def save_station_data(station_data, station_name, demand_type):\n",
    "    if demand_type != 'bike' and demand_type != 'dock':\n",
    "        print(\"Error: invalid demand type\", demand_type)\n",
    "        return\n",
    "    \n",
    "    filename = f'data/{station_name}_{demand_type}_demand.csv'\n",
    "    station_data.to_csv(filename)"
   ]
  },
  {
   "cell_type": "markdown",
   "id": "480e424c",
   "metadata": {},
   "source": [
    "### Find most popular station"
   ]
  },
  {
   "cell_type": "code",
   "execution_count": 10,
   "id": "3abaa45f",
   "metadata": {},
   "outputs": [
    {
     "name": "stdout",
     "output_type": "stream",
     "text": [
      "Bike demand group sizes:\n"
     ]
    },
    {
     "data": {
      "text/plain": [
       "start_station_code\n",
       "6184    259233\n",
       "6100    249178\n",
       "6064    206396\n",
       "6136    199872\n",
       "6221    187453\n",
       "dtype: int64"
      ]
     },
     "metadata": {},
     "output_type": "display_data"
    },
    {
     "name": "stdout",
     "output_type": "stream",
     "text": [
      "Dock demand group sizes:\n"
     ]
    },
    {
     "data": {
      "text/plain": [
       "end_station_code\n",
       "6015    269810\n",
       "6100    249367\n",
       "6012    248450\n",
       "6184    243197\n",
       "6064    211985\n",
       "dtype: int64"
      ]
     },
     "metadata": {},
     "output_type": "display_data"
    }
   ],
   "source": [
    "# Print stations sorted according to the total number of trips\n",
    "print(\"Bike demand group sizes:\")\n",
    "display(bike_demand_gb.size().sort_values(ascending=False).head())\n",
    "\n",
    "print(\"Dock demand group sizes:\")\n",
    "display(dock_demand_gb.size().sort_values(ascending=False).head())"
   ]
  },
  {
   "cell_type": "markdown",
   "id": "cb61529b",
   "metadata": {},
   "source": [
    "The station with ID *6184* is most popular for bike demand and the 3rd most popular for dock demand. Let's find what it is."
   ]
  },
  {
   "cell_type": "code",
   "execution_count": 11,
   "id": "59d50ec2",
   "metadata": {},
   "outputs": [
    {
     "data": {
      "text/plain": [
       "name         Métro Mont-Royal (Rivard / du Mont-Royal)\n",
       "latitude                                     45.524673\n",
       "longitude                                    -73.58255\n",
       "Name: 6184, dtype: object"
      ]
     },
     "metadata": {},
     "output_type": "display_data"
    }
   ],
   "source": [
    "# Load most recent station data\n",
    "stations_df = pd.read_csv('data/raw/stations.csv', index_col='code')\n",
    "\n",
    "# Print most popular station data\n",
    "display(stations_df.loc[6184])"
   ]
  },
  {
   "cell_type": "markdown",
   "id": "02931a6c",
   "metadata": {},
   "source": [
    "The overall most popular station is Métro Mont-Royal. We will use it as our station of choice."
   ]
  },
  {
   "cell_type": "markdown",
   "id": "ecfd3867",
   "metadata": {},
   "source": [
    "### Extract most popular station data"
   ]
  },
  {
   "cell_type": "code",
   "execution_count": 12,
   "id": "59224b3f",
   "metadata": {},
   "outputs": [],
   "source": [
    "# Get Metro Mont-Royal data\n",
    "mr_bike_demand = extract_station_data(bike_demand_gb, '6184')\n",
    "mr_dock_demand = extract_station_data(dock_demand_gb, '6184')"
   ]
  },
  {
   "cell_type": "code",
   "execution_count": 13,
   "id": "4e20c46c",
   "metadata": {},
   "outputs": [
    {
     "data": {
      "text/html": [
       "<div>\n",
       "<style scoped>\n",
       "    .dataframe tbody tr th:only-of-type {\n",
       "        vertical-align: middle;\n",
       "    }\n",
       "\n",
       "    .dataframe tbody tr th {\n",
       "        vertical-align: top;\n",
       "    }\n",
       "\n",
       "    .dataframe thead th {\n",
       "        text-align: right;\n",
       "    }\n",
       "</style>\n",
       "<table border=\"1\" class=\"dataframe\">\n",
       "  <thead>\n",
       "    <tr style=\"text-align: right;\">\n",
       "      <th></th>\n",
       "      <th>trip_count</th>\n",
       "    </tr>\n",
       "    <tr>\n",
       "      <th>start_date</th>\n",
       "      <th></th>\n",
       "    </tr>\n",
       "  </thead>\n",
       "  <tbody>\n",
       "    <tr>\n",
       "      <th>2014-04-15</th>\n",
       "      <td>31</td>\n",
       "    </tr>\n",
       "    <tr>\n",
       "      <th>2014-04-16</th>\n",
       "      <td>67</td>\n",
       "    </tr>\n",
       "    <tr>\n",
       "      <th>2014-04-17</th>\n",
       "      <td>140</td>\n",
       "    </tr>\n",
       "    <tr>\n",
       "      <th>2014-04-18</th>\n",
       "      <td>108</td>\n",
       "    </tr>\n",
       "    <tr>\n",
       "      <th>2014-04-19</th>\n",
       "      <td>128</td>\n",
       "    </tr>\n",
       "  </tbody>\n",
       "</table>\n",
       "</div>"
      ],
      "text/plain": [
       "            trip_count\n",
       "start_date            \n",
       "2014-04-15          31\n",
       "2014-04-16          67\n",
       "2014-04-17         140\n",
       "2014-04-18         108\n",
       "2014-04-19         128"
      ]
     },
     "metadata": {},
     "output_type": "display_data"
    },
    {
     "data": {
      "text/html": [
       "<div>\n",
       "<style scoped>\n",
       "    .dataframe tbody tr th:only-of-type {\n",
       "        vertical-align: middle;\n",
       "    }\n",
       "\n",
       "    .dataframe tbody tr th {\n",
       "        vertical-align: top;\n",
       "    }\n",
       "\n",
       "    .dataframe thead th {\n",
       "        text-align: right;\n",
       "    }\n",
       "</style>\n",
       "<table border=\"1\" class=\"dataframe\">\n",
       "  <thead>\n",
       "    <tr style=\"text-align: right;\">\n",
       "      <th></th>\n",
       "      <th>trip_count</th>\n",
       "    </tr>\n",
       "    <tr>\n",
       "      <th>start_date</th>\n",
       "      <th></th>\n",
       "    </tr>\n",
       "  </thead>\n",
       "  <tbody>\n",
       "    <tr>\n",
       "      <th>2014-04-15</th>\n",
       "      <td>39</td>\n",
       "    </tr>\n",
       "    <tr>\n",
       "      <th>2014-04-16</th>\n",
       "      <td>82</td>\n",
       "    </tr>\n",
       "    <tr>\n",
       "      <th>2014-04-17</th>\n",
       "      <td>136</td>\n",
       "    </tr>\n",
       "    <tr>\n",
       "      <th>2014-04-18</th>\n",
       "      <td>120</td>\n",
       "    </tr>\n",
       "    <tr>\n",
       "      <th>2014-04-19</th>\n",
       "      <td>118</td>\n",
       "    </tr>\n",
       "  </tbody>\n",
       "</table>\n",
       "</div>"
      ],
      "text/plain": [
       "            trip_count\n",
       "start_date            \n",
       "2014-04-15          39\n",
       "2014-04-16          82\n",
       "2014-04-17         136\n",
       "2014-04-18         120\n",
       "2014-04-19         118"
      ]
     },
     "metadata": {},
     "output_type": "display_data"
    }
   ],
   "source": [
    "# Preview the station data\n",
    "display(mr_bike_demand.head())\n",
    "display(mr_dock_demand.head())"
   ]
  },
  {
   "cell_type": "code",
   "execution_count": 14,
   "id": "9a51a1c7",
   "metadata": {},
   "outputs": [],
   "source": [
    "# Save Mont Royal data\n",
    "save_station_data(mr_bike_demand, 'mr', 'bike')\n",
    "save_station_data(mr_dock_demand, 'mr', 'dock')"
   ]
  },
  {
   "cell_type": "markdown",
   "id": "8e39df88",
   "metadata": {},
   "source": [
    "### Extract and save any station data\n",
    "\n",
    "Use this cell to extract and save data for any station."
   ]
  },
  {
   "cell_type": "code",
   "execution_count": 15,
   "id": "8692f156",
   "metadata": {},
   "outputs": [],
   "source": [
    "RUN_CELL = False\n",
    "\n",
    "if RUN_CELL:\n",
    "    station_id   = '6015'   # Put your station ID here\n",
    "    station_name = 'berri'  # Put the station name here\n",
    "\n",
    "    # Extract station data\n",
    "    bike_demand = extract_station_data(bike_demand_gb, station_id)\n",
    "    dock_demand = extract_station_data(dock_demand_gb, station_id)\n",
    "\n",
    "    # Save station data\n",
    "    save_station_data(bike_demand, station_name, 'bike')\n",
    "    save_station_data(dock_demand, station_name, 'dock')"
   ]
  },
  {
   "cell_type": "markdown",
   "id": "82608698",
   "metadata": {},
   "source": [
    "Use the next cell to extract and save station data for every station that has data in our period of interest."
   ]
  },
  {
   "cell_type": "code",
   "execution_count": 16,
   "id": "2ef45894",
   "metadata": {},
   "outputs": [],
   "source": [
    "RUN_CELL = False\n",
    "\n",
    "if RUN_CELL:\n",
    "    # Get station ids\n",
    "    station_ids = bike_demand_gb.groups.keys()\n",
    "\n",
    "    # For each station id, extract data and check if it has values for every day\n",
    "    # between 2014 and 2019\n",
    "    for station_id in station_ids:\n",
    "        station_data = extract_station_data(bike_demand_gb, station_id)['2014':'2019']        \n",
    "        if(len(station_data) == 2087):\n",
    "            # Save data for passing stations\n",
    "            save_station_data(station_data, station_id, 'bike')"
   ]
  },
  {
   "cell_type": "markdown",
   "id": "ae249549",
   "metadata": {},
   "source": [
    "## Weather Data Processing\n",
    "\n",
    "Here we will load, process and save weather data as a parallel time-series to our Time-Series data."
   ]
  },
  {
   "cell_type": "markdown",
   "id": "ee6cfb2f",
   "metadata": {},
   "source": [
    "First we define a helper function to load and process weather data for a single station.\n",
    "\n",
    "Raw weather *.csv* data for each station must be located in the *data/weather/{station_name}/* directory in order to be loaded."
   ]
  },
  {
   "cell_type": "code",
   "execution_count": 17,
   "id": "940dacf6",
   "metadata": {},
   "outputs": [],
   "source": [
    "def load_and_process(station_name):\n",
    "    # Get all raw weather data .csv files\n",
    "    filenames = glob.glob(f'data/weather/{station_name}/*.csv')\n",
    "\n",
    "    # Define the list of useful columns to extract\n",
    "    cols=['Date/Time', 'Max Temp (°C)', 'Min Temp (°C)', 'Mean Temp (°C)', 'Total Precip (mm)', 'Spd of Max Gust (km/h)']\n",
    "\n",
    "    # Load each file and merge into a single data_frame\n",
    "    weather_df = pd.concat(pd.read_csv(f, index_col='Date/Time',\n",
    "                                   usecols = cols,\n",
    "                                   parse_dates=['Date/Time']) \n",
    "                                   for f in sorted(filenames))\n",
    "    \n",
    "    # If wind speed in denoted as <31, replace it with 31 and convert the column to float \n",
    "    weather_df.loc[weather_df['Spd of Max Gust (km/h)'] == '<31', 'Spd of Max Gust (km/h)'] = 31\n",
    "    weather_df = weather_df.astype({'Spd of Max Gust (km/h)': 'float64'})\n",
    "    \n",
    "    return weather_df"
   ]
  },
  {
   "cell_type": "markdown",
   "id": "26691563",
   "metadata": {},
   "source": [
    "As our main station we use the *McTavish* weather station, located in the center of Montreal.\n",
    "\n",
    "As we can see, there are quite a few missing values in the station's data that have to be filled."
   ]
  },
  {
   "cell_type": "code",
   "execution_count": 18,
   "id": "05eb3e62",
   "metadata": {},
   "outputs": [
    {
     "data": {
      "text/html": [
       "<div>\n",
       "<style scoped>\n",
       "    .dataframe tbody tr th:only-of-type {\n",
       "        vertical-align: middle;\n",
       "    }\n",
       "\n",
       "    .dataframe tbody tr th {\n",
       "        vertical-align: top;\n",
       "    }\n",
       "\n",
       "    .dataframe thead th {\n",
       "        text-align: right;\n",
       "    }\n",
       "</style>\n",
       "<table border=\"1\" class=\"dataframe\">\n",
       "  <thead>\n",
       "    <tr style=\"text-align: right;\">\n",
       "      <th></th>\n",
       "      <th>Max Temp (°C)</th>\n",
       "      <th>Min Temp (°C)</th>\n",
       "      <th>Mean Temp (°C)</th>\n",
       "      <th>Total Precip (mm)</th>\n",
       "      <th>Spd of Max Gust (km/h)</th>\n",
       "    </tr>\n",
       "    <tr>\n",
       "      <th>Date/Time</th>\n",
       "      <th></th>\n",
       "      <th></th>\n",
       "      <th></th>\n",
       "      <th></th>\n",
       "      <th></th>\n",
       "    </tr>\n",
       "  </thead>\n",
       "  <tbody>\n",
       "    <tr>\n",
       "      <th>2014-01-01</th>\n",
       "      <td>-15.2</td>\n",
       "      <td>-23.9</td>\n",
       "      <td>-19.6</td>\n",
       "      <td>0.0</td>\n",
       "      <td>31.0</td>\n",
       "    </tr>\n",
       "    <tr>\n",
       "      <th>2014-01-02</th>\n",
       "      <td>-22.3</td>\n",
       "      <td>-27.4</td>\n",
       "      <td>-24.9</td>\n",
       "      <td>0.0</td>\n",
       "      <td>37.0</td>\n",
       "    </tr>\n",
       "    <tr>\n",
       "      <th>2014-01-03</th>\n",
       "      <td>-19.0</td>\n",
       "      <td>-23.6</td>\n",
       "      <td>-21.3</td>\n",
       "      <td>1.0</td>\n",
       "      <td>31.0</td>\n",
       "    </tr>\n",
       "    <tr>\n",
       "      <th>2014-01-04</th>\n",
       "      <td>-6.6</td>\n",
       "      <td>-21.3</td>\n",
       "      <td>-14.0</td>\n",
       "      <td>0.0</td>\n",
       "      <td>31.0</td>\n",
       "    </tr>\n",
       "    <tr>\n",
       "      <th>2014-01-05</th>\n",
       "      <td>0.2</td>\n",
       "      <td>-10.6</td>\n",
       "      <td>-5.2</td>\n",
       "      <td>8.0</td>\n",
       "      <td>31.0</td>\n",
       "    </tr>\n",
       "    <tr>\n",
       "      <th>...</th>\n",
       "      <td>...</td>\n",
       "      <td>...</td>\n",
       "      <td>...</td>\n",
       "      <td>...</td>\n",
       "      <td>...</td>\n",
       "    </tr>\n",
       "    <tr>\n",
       "      <th>2019-12-27</th>\n",
       "      <td>3.5</td>\n",
       "      <td>-4.8</td>\n",
       "      <td>-0.6</td>\n",
       "      <td>7.2</td>\n",
       "      <td>NaN</td>\n",
       "    </tr>\n",
       "    <tr>\n",
       "      <th>2019-12-28</th>\n",
       "      <td>4.2</td>\n",
       "      <td>-0.2</td>\n",
       "      <td>2.0</td>\n",
       "      <td>0.2</td>\n",
       "      <td>NaN</td>\n",
       "    </tr>\n",
       "    <tr>\n",
       "      <th>2019-12-29</th>\n",
       "      <td>0.8</td>\n",
       "      <td>-2.9</td>\n",
       "      <td>-1.1</td>\n",
       "      <td>0.0</td>\n",
       "      <td>31.0</td>\n",
       "    </tr>\n",
       "    <tr>\n",
       "      <th>2019-12-30</th>\n",
       "      <td>-1.3</td>\n",
       "      <td>-4.1</td>\n",
       "      <td>-2.7</td>\n",
       "      <td>16.0</td>\n",
       "      <td>36.0</td>\n",
       "    </tr>\n",
       "    <tr>\n",
       "      <th>2019-12-31</th>\n",
       "      <td>1.1</td>\n",
       "      <td>-2.1</td>\n",
       "      <td>-0.5</td>\n",
       "      <td>11.3</td>\n",
       "      <td>NaN</td>\n",
       "    </tr>\n",
       "  </tbody>\n",
       "</table>\n",
       "<p>2191 rows × 5 columns</p>\n",
       "</div>"
      ],
      "text/plain": [
       "            Max Temp (°C)  Min Temp (°C)  Mean Temp (°C)  Total Precip (mm)  \\\n",
       "Date/Time                                                                     \n",
       "2014-01-01          -15.2          -23.9           -19.6                0.0   \n",
       "2014-01-02          -22.3          -27.4           -24.9                0.0   \n",
       "2014-01-03          -19.0          -23.6           -21.3                1.0   \n",
       "2014-01-04           -6.6          -21.3           -14.0                0.0   \n",
       "2014-01-05            0.2          -10.6            -5.2                8.0   \n",
       "...                   ...            ...             ...                ...   \n",
       "2019-12-27            3.5           -4.8            -0.6                7.2   \n",
       "2019-12-28            4.2           -0.2             2.0                0.2   \n",
       "2019-12-29            0.8           -2.9            -1.1                0.0   \n",
       "2019-12-30           -1.3           -4.1            -2.7               16.0   \n",
       "2019-12-31            1.1           -2.1            -0.5               11.3   \n",
       "\n",
       "            Spd of Max Gust (km/h)  \n",
       "Date/Time                           \n",
       "2014-01-01                    31.0  \n",
       "2014-01-02                    37.0  \n",
       "2014-01-03                    31.0  \n",
       "2014-01-04                    31.0  \n",
       "2014-01-05                    31.0  \n",
       "...                            ...  \n",
       "2019-12-27                     NaN  \n",
       "2019-12-28                     NaN  \n",
       "2019-12-29                    31.0  \n",
       "2019-12-30                    36.0  \n",
       "2019-12-31                     NaN  \n",
       "\n",
       "[2191 rows x 5 columns]"
      ]
     },
     "metadata": {},
     "output_type": "display_data"
    },
    {
     "name": "stdout",
     "output_type": "stream",
     "text": [
      "Number of null values per column:\n"
     ]
    },
    {
     "data": {
      "text/plain": [
       "Max Temp (°C)              71\n",
       "Min Temp (°C)              43\n",
       "Mean Temp (°C)             73\n",
       "Total Precip (mm)         278\n",
       "Spd of Max Gust (km/h)    435\n",
       "dtype: int64"
      ]
     },
     "metadata": {},
     "output_type": "display_data"
    }
   ],
   "source": [
    "weather_df = load_and_process('mctavish')\n",
    "display(weather_df)\n",
    "\n",
    "print(\"Number of null values per column:\")\n",
    "display(weather_df.isnull().sum())"
   ]
  },
  {
   "cell_type": "markdown",
   "id": "3f3ac1c4",
   "metadata": {},
   "source": [
    "### Using another station data in close proximity"
   ]
  },
  {
   "cell_type": "markdown",
   "id": "fd8e1709",
   "metadata": {},
   "source": [
    "In order to fill the missing station values, we will use data from two supplementary stations located in close proximity (within 10km) to the McTavish station."
   ]
  },
  {
   "cell_type": "code",
   "execution_count": 19,
   "id": "98f74361",
   "metadata": {},
   "outputs": [
    {
     "name": "stdout",
     "output_type": "stream",
     "text": [
      "Number of null values per column:\n"
     ]
    },
    {
     "data": {
      "text/plain": [
       "Max Temp (°C)               8\n",
       "Min Temp (°C)               4\n",
       "Mean Temp (°C)              8\n",
       "Total Precip (mm)          19\n",
       "Spd of Max Gust (km/h)    106\n",
       "dtype: int64"
      ]
     },
     "metadata": {},
     "output_type": "display_data"
    }
   ],
   "source": [
    "# Load St. Hubert weather data\n",
    "weather_df1 = load_and_process('intl_a')\n",
    "print(\"Number of null values per column:\")\n",
    "display(weather_df1.isnull().sum())"
   ]
  },
  {
   "cell_type": "code",
   "execution_count": 20,
   "id": "924e9f0d",
   "metadata": {},
   "outputs": [
    {
     "name": "stdout",
     "output_type": "stream",
     "text": [
      "Number of null values per column:\n"
     ]
    },
    {
     "data": {
      "text/plain": [
       "Max Temp (°C)             202\n",
       "Min Temp (°C)             192\n",
       "Mean Temp (°C)            203\n",
       "Total Precip (mm)         223\n",
       "Spd of Max Gust (km/h)    293\n",
       "dtype: int64"
      ]
     },
     "metadata": {},
     "output_type": "display_data"
    }
   ],
   "source": [
    "# Load Int. Airport weather data\n",
    "weather_df2 = load_and_process('st_hubert')\n",
    "print(\"Number of null values per column:\")\n",
    "display(weather_df2.isnull().sum())"
   ]
  },
  {
   "cell_type": "code",
   "execution_count": 21,
   "id": "24b718f6",
   "metadata": {},
   "outputs": [
    {
     "data": {
      "text/plain": [
       "Max Temp (°C)              0\n",
       "Min Temp (°C)              0\n",
       "Mean Temp (°C)             0\n",
       "Total Precip (mm)          0\n",
       "Spd of Max Gust (km/h)    77\n",
       "dtype: int64"
      ]
     },
     "execution_count": 21,
     "metadata": {},
     "output_type": "execute_result"
    }
   ],
   "source": [
    "# Fill missing values using the supplementaty weather data\n",
    "weather_df = weather_df.fillna(weather_df1)\n",
    "weather_df = weather_df.fillna(weather_df2)\n",
    "weather_df.isnull().sum()"
   ]
  },
  {
   "cell_type": "markdown",
   "id": "a6fd44df",
   "metadata": {},
   "source": [
    "As we are still have a few missing values, we will use interpolation to fill them in."
   ]
  },
  {
   "cell_type": "code",
   "execution_count": 22,
   "id": "67c56b2a",
   "metadata": {},
   "outputs": [
    {
     "data": {
      "text/plain": [
       "Max Temp (°C)             0\n",
       "Min Temp (°C)             0\n",
       "Mean Temp (°C)            0\n",
       "Total Precip (mm)         0\n",
       "Spd of Max Gust (km/h)    0\n",
       "dtype: int64"
      ]
     },
     "execution_count": 22,
     "metadata": {},
     "output_type": "execute_result"
    }
   ],
   "source": [
    "weather_df.interpolate(axis=1, inplace=True)\n",
    "weather_df.isnull().sum()"
   ]
  },
  {
   "cell_type": "markdown",
   "id": "cf091883",
   "metadata": {},
   "source": [
    "Now that all missing values are filled in, let's take a quick look at the general features of the weather dataset."
   ]
  },
  {
   "cell_type": "code",
   "execution_count": 23,
   "id": "abaf6ff7",
   "metadata": {},
   "outputs": [
    {
     "data": {
      "text/html": [
       "<div>\n",
       "<style scoped>\n",
       "    .dataframe tbody tr th:only-of-type {\n",
       "        vertical-align: middle;\n",
       "    }\n",
       "\n",
       "    .dataframe tbody tr th {\n",
       "        vertical-align: top;\n",
       "    }\n",
       "\n",
       "    .dataframe thead th {\n",
       "        text-align: right;\n",
       "    }\n",
       "</style>\n",
       "<table border=\"1\" class=\"dataframe\">\n",
       "  <thead>\n",
       "    <tr style=\"text-align: right;\">\n",
       "      <th></th>\n",
       "      <th>Max Temp (°C)</th>\n",
       "      <th>Min Temp (°C)</th>\n",
       "      <th>Mean Temp (°C)</th>\n",
       "      <th>Total Precip (mm)</th>\n",
       "      <th>Spd of Max Gust (km/h)</th>\n",
       "    </tr>\n",
       "  </thead>\n",
       "  <tbody>\n",
       "    <tr>\n",
       "      <th>count</th>\n",
       "      <td>2191.000000</td>\n",
       "      <td>2191.000000</td>\n",
       "      <td>2191.000000</td>\n",
       "      <td>2191.000000</td>\n",
       "      <td>2191.000000</td>\n",
       "    </tr>\n",
       "    <tr>\n",
       "      <th>mean</th>\n",
       "      <td>11.904747</td>\n",
       "      <td>3.787951</td>\n",
       "      <td>7.842492</td>\n",
       "      <td>3.142492</td>\n",
       "      <td>33.042355</td>\n",
       "    </tr>\n",
       "    <tr>\n",
       "      <th>std</th>\n",
       "      <td>12.560176</td>\n",
       "      <td>11.740618</td>\n",
       "      <td>12.061086</td>\n",
       "      <td>7.169566</td>\n",
       "      <td>8.939278</td>\n",
       "    </tr>\n",
       "    <tr>\n",
       "      <th>min</th>\n",
       "      <td>-22.300000</td>\n",
       "      <td>-27.800000</td>\n",
       "      <td>-24.900000</td>\n",
       "      <td>0.000000</td>\n",
       "      <td>0.000000</td>\n",
       "    </tr>\n",
       "    <tr>\n",
       "      <th>25%</th>\n",
       "      <td>1.800000</td>\n",
       "      <td>-4.800000</td>\n",
       "      <td>-1.500000</td>\n",
       "      <td>0.000000</td>\n",
       "      <td>31.000000</td>\n",
       "    </tr>\n",
       "    <tr>\n",
       "      <th>50%</th>\n",
       "      <td>12.300000</td>\n",
       "      <td>4.800000</td>\n",
       "      <td>8.400000</td>\n",
       "      <td>0.000000</td>\n",
       "      <td>31.000000</td>\n",
       "    </tr>\n",
       "    <tr>\n",
       "      <th>75%</th>\n",
       "      <td>23.500000</td>\n",
       "      <td>14.200000</td>\n",
       "      <td>18.800000</td>\n",
       "      <td>2.600000</td>\n",
       "      <td>35.000000</td>\n",
       "    </tr>\n",
       "    <tr>\n",
       "      <th>max</th>\n",
       "      <td>36.600000</td>\n",
       "      <td>25.000000</td>\n",
       "      <td>30.000000</td>\n",
       "      <td>77.800000</td>\n",
       "      <td>115.000000</td>\n",
       "    </tr>\n",
       "  </tbody>\n",
       "</table>\n",
       "</div>"
      ],
      "text/plain": [
       "       Max Temp (°C)  Min Temp (°C)  Mean Temp (°C)  Total Precip (mm)  \\\n",
       "count    2191.000000    2191.000000     2191.000000        2191.000000   \n",
       "mean       11.904747       3.787951        7.842492           3.142492   \n",
       "std        12.560176      11.740618       12.061086           7.169566   \n",
       "min       -22.300000     -27.800000      -24.900000           0.000000   \n",
       "25%         1.800000      -4.800000       -1.500000           0.000000   \n",
       "50%        12.300000       4.800000        8.400000           0.000000   \n",
       "75%        23.500000      14.200000       18.800000           2.600000   \n",
       "max        36.600000      25.000000       30.000000          77.800000   \n",
       "\n",
       "       Spd of Max Gust (km/h)  \n",
       "count             2191.000000  \n",
       "mean                33.042355  \n",
       "std                  8.939278  \n",
       "min                  0.000000  \n",
       "25%                 31.000000  \n",
       "50%                 31.000000  \n",
       "75%                 35.000000  \n",
       "max                115.000000  "
      ]
     },
     "execution_count": 23,
     "metadata": {},
     "output_type": "execute_result"
    }
   ],
   "source": [
    "weather_df.describe()"
   ]
  },
  {
   "cell_type": "markdown",
   "id": "0ab106ac",
   "metadata": {},
   "source": [
    "### Save weather data\n",
    "\n",
    "Finally, we can save the processed weather data to a *.csv* file for later use."
   ]
  },
  {
   "cell_type": "code",
   "execution_count": 24,
   "id": "5d853ec5",
   "metadata": {},
   "outputs": [],
   "source": [
    "filename = f'data/weather.csv'\n",
    "weather_df.to_csv(filename)"
   ]
  },
  {
   "cell_type": "code",
   "execution_count": null,
   "id": "82eb1134",
   "metadata": {},
   "outputs": [],
   "source": []
  },
  {
   "cell_type": "code",
   "execution_count": null,
   "id": "5f720dd9",
   "metadata": {},
   "outputs": [],
   "source": []
  },
  {
   "cell_type": "code",
   "execution_count": null,
   "id": "4d367454",
   "metadata": {},
   "outputs": [],
   "source": []
  },
  {
   "cell_type": "code",
   "execution_count": null,
   "id": "04dbdf09",
   "metadata": {},
   "outputs": [],
   "source": []
  },
  {
   "cell_type": "code",
   "execution_count": null,
   "id": "e11193fc",
   "metadata": {},
   "outputs": [],
   "source": []
  },
  {
   "cell_type": "code",
   "execution_count": null,
   "id": "4485c932",
   "metadata": {},
   "outputs": [],
   "source": []
  }
 ],
 "metadata": {
  "kernelspec": {
   "display_name": "Python 3 (ipykernel)",
   "language": "python",
   "name": "python3"
  },
  "language_info": {
   "codemirror_mode": {
    "name": "ipython",
    "version": 3
   },
   "file_extension": ".py",
   "mimetype": "text/x-python",
   "name": "python",
   "nbconvert_exporter": "python",
   "pygments_lexer": "ipython3",
   "version": "3.8.8"
  },
  "varInspector": {
   "cols": {
    "lenName": 16,
    "lenType": 16,
    "lenVar": 40
   },
   "kernels_config": {
    "python": {
     "delete_cmd_postfix": "",
     "delete_cmd_prefix": "del ",
     "library": "var_list.py",
     "varRefreshCmd": "print(var_dic_list())"
    },
    "r": {
     "delete_cmd_postfix": ") ",
     "delete_cmd_prefix": "rm(",
     "library": "var_list.r",
     "varRefreshCmd": "cat(var_dic_list()) "
    }
   },
   "types_to_exclude": [
    "module",
    "function",
    "builtin_function_or_method",
    "instance",
    "_Feature"
   ],
   "window_display": false
  }
 },
 "nbformat": 4,
 "nbformat_minor": 5
}
