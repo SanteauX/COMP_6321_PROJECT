{
 "cells": [
  {
   "cell_type": "code",
   "execution_count": 2,
   "id": "89428153",
   "metadata": {},
   "outputs": [],
   "source": [
    "import numpy as np\n",
    "import pandas as pd\n",
    "import glob\n",
    "import os"
   ]
  },
  {
   "cell_type": "markdown",
   "id": "0c748b53",
   "metadata": {},
   "source": [
    "## Importing the data:"
   ]
  },
  {
   "cell_type": "code",
   "execution_count": 3,
   "id": "1bcf1fb1",
   "metadata": {},
   "outputs": [
    {
     "name": "stdout",
     "output_type": "stream",
     "text": [
      "path: /Users/hugo/Downloads/COMP_6321_PROJECT/data/raw/\n",
      "\n"
     ]
    }
   ],
   "source": [
    "# Get local path:\n",
    "path = os.getcwd()+\"/data/raw/\"\n",
    "print(\"path: \"+ path+\"\\n\")"
   ]
  },
  {
   "cell_type": "markdown",
   "id": "0f7d1381",
   "metadata": {},
   "source": [
    "## Listing the training data from BIXI"
   ]
  },
  {
   "cell_type": "code",
   "execution_count": 4,
   "id": "77895abb",
   "metadata": {},
   "outputs": [
    {
     "name": "stdout",
     "output_type": "stream",
     "text": [
      ".DS_Store\n",
      ".gitkeep\n",
      "OD_2014-04.csv\n",
      "OD_2014-05.csv\n",
      "OD_2014-06.csv\n",
      "OD_2014-07.csv\n",
      "OD_2014-08.csv\n",
      "OD_2014-09.csv\n",
      "OD_2014-10.csv\n",
      "OD_2014-11.csv\n",
      "OD_2015-04.csv\n",
      "OD_2015-05.csv\n",
      "OD_2015-06.csv\n",
      "OD_2015-07.csv\n",
      "OD_2015-08.csv\n",
      "OD_2015-09.csv\n",
      "OD_2015-10.csv\n",
      "OD_2015-11.csv\n",
      "OD_2016-04.csv\n",
      "OD_2016-05.csv\n",
      "OD_2016-06.csv\n",
      "OD_2016-07.csv\n",
      "OD_2016-08.csv\n",
      "OD_2016-09.csv\n",
      "OD_2016-10.csv\n",
      "OD_2016-11.csv\n",
      "OD_2017-04.csv\n",
      "OD_2017-05.csv\n",
      "OD_2017-06.csv\n",
      "OD_2017-07.csv\n",
      "OD_2017-08.csv\n",
      "OD_2017-09.csv\n",
      "OD_2017-10.csv\n",
      "OD_2017-11.csv\n",
      "OD_2018-04.csv\n",
      "OD_2018-05.csv\n",
      "OD_2018-06.csv\n",
      "OD_2018-07.csv\n",
      "OD_2018-08.csv\n",
      "OD_2018-09.csv\n",
      "OD_2018-10.csv\n",
      "OD_2018-11.csv\n",
      "OD_2019-04.csv\n",
      "OD_2019-05.csv\n",
      "OD_2019-06.csv\n",
      "OD_2019-07.csv\n",
      "OD_2019-08.csv\n",
      "OD_2019-09.csv\n",
      "OD_2019-10.csv\n"
     ]
    }
   ],
   "source": [
    "# Listing files:\n",
    "files = os.listdir(path)\n",
    "\n",
    "# Times series must be chronologically sorted\n",
    "files.sort()\n",
    "for f in files:\n",
    "    print(f)"
   ]
  },
  {
   "cell_type": "markdown",
   "id": "364039df",
   "metadata": {},
   "source": [
    "## Make a dataframe"
   ]
  },
  {
   "cell_type": "code",
   "execution_count": 5,
   "id": "e5ce309c",
   "metadata": {},
   "outputs": [
    {
     "name": "stderr",
     "output_type": "stream",
     "text": [
      "/Users/hugo/opt/anaconda3/lib/python3.8/site-packages/IPython/core/interactiveshell.py:3165: DtypeWarning: Columns (1,3) have mixed types.Specify dtype option on import or set low_memory=False.\n",
      "  has_raised = await self.run_ast_nodes(code_ast.body, cell_name,\n"
     ]
    },
    {
     "data": {
      "text/html": [
       "<div>\n",
       "<style scoped>\n",
       "    .dataframe tbody tr th:only-of-type {\n",
       "        vertical-align: middle;\n",
       "    }\n",
       "\n",
       "    .dataframe tbody tr th {\n",
       "        vertical-align: top;\n",
       "    }\n",
       "\n",
       "    .dataframe thead th {\n",
       "        text-align: right;\n",
       "    }\n",
       "</style>\n",
       "<table border=\"1\" class=\"dataframe\">\n",
       "  <thead>\n",
       "    <tr style=\"text-align: right;\">\n",
       "      <th></th>\n",
       "      <th>start_date</th>\n",
       "      <th>start_station_code</th>\n",
       "      <th>end_date</th>\n",
       "      <th>end_station_code</th>\n",
       "      <th>duration_sec</th>\n",
       "      <th>is_member</th>\n",
       "    </tr>\n",
       "  </thead>\n",
       "  <tbody>\n",
       "    <tr>\n",
       "      <th>0</th>\n",
       "      <td>2014-04-15 00:01</td>\n",
       "      <td>6209</td>\n",
       "      <td>2014-04-15 00:18</td>\n",
       "      <td>6436</td>\n",
       "      <td>1061</td>\n",
       "      <td>1</td>\n",
       "    </tr>\n",
       "    <tr>\n",
       "      <th>1</th>\n",
       "      <td>2014-04-15 00:01</td>\n",
       "      <td>6214</td>\n",
       "      <td>2014-04-15 00:11</td>\n",
       "      <td>6248</td>\n",
       "      <td>615</td>\n",
       "      <td>1</td>\n",
       "    </tr>\n",
       "    <tr>\n",
       "      <th>2</th>\n",
       "      <td>2014-04-15 00:01</td>\n",
       "      <td>6164</td>\n",
       "      <td>2014-04-15 00:18</td>\n",
       "      <td>6216</td>\n",
       "      <td>1031</td>\n",
       "      <td>1</td>\n",
       "    </tr>\n",
       "    <tr>\n",
       "      <th>3</th>\n",
       "      <td>2014-04-15 00:01</td>\n",
       "      <td>6214</td>\n",
       "      <td>2014-04-15 00:24</td>\n",
       "      <td>6082</td>\n",
       "      <td>1382</td>\n",
       "      <td>1</td>\n",
       "    </tr>\n",
       "    <tr>\n",
       "      <th>4</th>\n",
       "      <td>2014-04-15 00:02</td>\n",
       "      <td>6149</td>\n",
       "      <td>2014-04-15 00:08</td>\n",
       "      <td>6265</td>\n",
       "      <td>347</td>\n",
       "      <td>1</td>\n",
       "    </tr>\n",
       "    <tr>\n",
       "      <th>...</th>\n",
       "      <td>...</td>\n",
       "      <td>...</td>\n",
       "      <td>...</td>\n",
       "      <td>...</td>\n",
       "      <td>...</td>\n",
       "      <td>...</td>\n",
       "    </tr>\n",
       "    <tr>\n",
       "      <th>25578782</th>\n",
       "      <td>2019-09-30 23:55:34</td>\n",
       "      <td>6184</td>\n",
       "      <td>2019-10-01 00:01:40</td>\n",
       "      <td>6140</td>\n",
       "      <td>365</td>\n",
       "      <td>1</td>\n",
       "    </tr>\n",
       "    <tr>\n",
       "      <th>25578783</th>\n",
       "      <td>2019-09-30 23:56:23</td>\n",
       "      <td>6213</td>\n",
       "      <td>2019-10-01 00:01:44</td>\n",
       "      <td>7038</td>\n",
       "      <td>321</td>\n",
       "      <td>1</td>\n",
       "    </tr>\n",
       "    <tr>\n",
       "      <th>25578784</th>\n",
       "      <td>2019-09-30 23:56:39</td>\n",
       "      <td>6080</td>\n",
       "      <td>2019-10-01 00:04:47</td>\n",
       "      <td>6402</td>\n",
       "      <td>487</td>\n",
       "      <td>1</td>\n",
       "    </tr>\n",
       "    <tr>\n",
       "      <th>25578785</th>\n",
       "      <td>2019-09-30 23:57:54</td>\n",
       "      <td>6070</td>\n",
       "      <td>2019-10-01 00:03:43</td>\n",
       "      <td>6701</td>\n",
       "      <td>349</td>\n",
       "      <td>1</td>\n",
       "    </tr>\n",
       "    <tr>\n",
       "      <th>25578786</th>\n",
       "      <td>2019-09-30 23:58:01</td>\n",
       "      <td>6923</td>\n",
       "      <td>2019-10-01 00:01:03</td>\n",
       "      <td>6270</td>\n",
       "      <td>182</td>\n",
       "      <td>1</td>\n",
       "    </tr>\n",
       "  </tbody>\n",
       "</table>\n",
       "<p>25578787 rows × 6 columns</p>\n",
       "</div>"
      ],
      "text/plain": [
       "                   start_date start_station_code             end_date  \\\n",
       "0            2014-04-15 00:01               6209     2014-04-15 00:18   \n",
       "1            2014-04-15 00:01               6214     2014-04-15 00:11   \n",
       "2            2014-04-15 00:01               6164     2014-04-15 00:18   \n",
       "3            2014-04-15 00:01               6214     2014-04-15 00:24   \n",
       "4            2014-04-15 00:02               6149     2014-04-15 00:08   \n",
       "...                       ...                ...                  ...   \n",
       "25578782  2019-09-30 23:55:34               6184  2019-10-01 00:01:40   \n",
       "25578783  2019-09-30 23:56:23               6213  2019-10-01 00:01:44   \n",
       "25578784  2019-09-30 23:56:39               6080  2019-10-01 00:04:47   \n",
       "25578785  2019-09-30 23:57:54               6070  2019-10-01 00:03:43   \n",
       "25578786  2019-09-30 23:58:01               6923  2019-10-01 00:01:03   \n",
       "\n",
       "         end_station_code  duration_sec  is_member  \n",
       "0                    6436          1061          1  \n",
       "1                    6248           615          1  \n",
       "2                    6216          1031          1  \n",
       "3                    6082          1382          1  \n",
       "4                    6265           347          1  \n",
       "...                   ...           ...        ...  \n",
       "25578782             6140           365          1  \n",
       "25578783             7038           321          1  \n",
       "25578784             6402           487          1  \n",
       "25578785             6701           349          1  \n",
       "25578786             6270           182          1  \n",
       "\n",
       "[25578787 rows x 6 columns]"
      ]
     },
     "metadata": {},
     "output_type": "display_data"
    }
   ],
   "source": [
    "# Put these in a single dataframe\n",
    "li = []\n",
    "\n",
    "for i in range(2, len(files) -1, 1):\n",
    "    df = pd.read_csv(path+files[i], index_col = None, header = 0)\n",
    "    li.append(df)\n",
    "\n",
    "bixi_frame = pd.concat(li, axis = 0, ignore_index = True)\n",
    "\n",
    "display(bixi_frame)"
   ]
  },
  {
   "cell_type": "code",
   "execution_count": null,
   "id": "df88df74",
   "metadata": {},
   "outputs": [],
   "source": []
  },
  {
   "cell_type": "markdown",
   "id": "ef11b16c",
   "metadata": {},
   "source": [
    "# No more weather data"
   ]
  },
  {
   "cell_type": "markdown",
   "id": "baf908b4",
   "metadata": {},
   "source": [
    "## Import Weather Data"
   ]
  },
  {
   "cell_type": "code",
   "execution_count": null,
   "id": "767e3681",
   "metadata": {},
   "outputs": [],
   "source": [
    "# Get local path:\n",
    "#path = os.getcwd()+\"/train_data_weather/hourly/\"\n",
    "#print(\"path: \"+ path+\"\\n\")"
   ]
  },
  {
   "cell_type": "markdown",
   "id": "47fdc032",
   "metadata": {},
   "source": [
    "## Listing the hourly weather data"
   ]
  },
  {
   "cell_type": "code",
   "execution_count": null,
   "id": "c59d2f8e",
   "metadata": {},
   "outputs": [],
   "source": [
    "# Listing files:\n",
    "#files = os.listdir(path)\n",
    "\n",
    "# Times series must be chronologically sorted\n",
    "#files.sort()"
   ]
  },
  {
   "cell_type": "markdown",
   "id": "4893ee0a",
   "metadata": {},
   "source": [
    "## Put the weather hourly data in a dataframe"
   ]
  },
  {
   "cell_type": "code",
   "execution_count": 1,
   "id": "42f74568",
   "metadata": {},
   "outputs": [],
   "source": [
    "# Put these in a single dataframe\n",
    "#li = []\n",
    "\n",
    "#for i in range(0, len(files) -1, 1):\n",
    "#    df = pd.read_csv(path+files[i], index_col = None, header = 0)\n",
    "#    li.append(df)\n",
    "\n",
    "#weather_frame = pd.concat(li, axis = 0, ignore_index = True)\n",
    "\n",
    "#display(weather_frame)"
   ]
  },
  {
   "cell_type": "code",
   "execution_count": null,
   "id": "d94b2f38",
   "metadata": {},
   "outputs": [],
   "source": []
  }
 ],
 "metadata": {
  "kernelspec": {
   "display_name": "Python 3 (ipykernel)",
   "language": "python",
   "name": "python3"
  },
  "language_info": {
   "codemirror_mode": {
    "name": "ipython",
    "version": 3
   },
   "file_extension": ".py",
   "mimetype": "text/x-python",
   "name": "python",
   "nbconvert_exporter": "python",
   "pygments_lexer": "ipython3",
   "version": "3.8.10"
  },
  "varInspector": {
   "cols": {
    "lenName": 16,
    "lenType": 16,
    "lenVar": 40
   },
   "kernels_config": {
    "python": {
     "delete_cmd_postfix": "",
     "delete_cmd_prefix": "del ",
     "library": "var_list.py",
     "varRefreshCmd": "print(var_dic_list())"
    },
    "r": {
     "delete_cmd_postfix": ") ",
     "delete_cmd_prefix": "rm(",
     "library": "var_list.r",
     "varRefreshCmd": "cat(var_dic_list()) "
    }
   },
   "types_to_exclude": [
    "module",
    "function",
    "builtin_function_or_method",
    "instance",
    "_Feature"
   ],
   "window_display": false
  }
 },
 "nbformat": 4,
 "nbformat_minor": 5
}
