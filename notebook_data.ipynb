{
 "cells": [
  {
   "cell_type": "code",
   "execution_count": 1,
   "id": "89428153",
   "metadata": {},
   "outputs": [],
   "source": [
    "import numpy as np\n",
    "import pandas as pd\n",
    "import glob\n",
    "import os"
   ]
  },
  {
   "cell_type": "markdown",
   "id": "0c748b53",
   "metadata": {},
   "source": [
    "## Importing the data:"
   ]
  },
  {
   "cell_type": "code",
   "execution_count": 2,
   "id": "1bcf1fb1",
   "metadata": {},
   "outputs": [
    {
     "name": "stdout",
     "output_type": "stream",
     "text": [
      "path: /Users/hugo/Desktop/COMP_6321_PROJECT/train_data/\n",
      "\n"
     ]
    }
   ],
   "source": [
    "# Get local path:\n",
    "path = os.getcwd()+\"/train_data/\"\n",
    "print(\"path: \"+ path+\"\\n\")"
   ]
  },
  {
   "cell_type": "markdown",
   "id": "0f7d1381",
   "metadata": {},
   "source": [
    "## Listing the training data"
   ]
  },
  {
   "cell_type": "code",
   "execution_count": 5,
   "id": "77895abb",
   "metadata": {},
   "outputs": [
    {
     "name": "stdout",
     "output_type": "stream",
     "text": [
      "OD_2014-04.csv\n",
      "OD_2014-05.csv\n",
      "OD_2014-06.csv\n",
      "OD_2014-07.csv\n",
      "OD_2014-08.csv\n",
      "OD_2014-09.csv\n",
      "OD_2014-10.csv\n",
      "OD_2014-11.csv\n",
      "OD_2015-04.csv\n",
      "OD_2015-05.csv\n",
      "OD_2015-06.csv\n",
      "OD_2015-07.csv\n",
      "OD_2015-08.csv\n",
      "OD_2015-09.csv\n",
      "OD_2015-10.csv\n",
      "OD_2015-11.csv\n",
      "OD_2016-04.csv\n",
      "OD_2016-05.csv\n",
      "OD_2016-06.csv\n",
      "OD_2016-07.csv\n",
      "OD_2016-08.csv\n",
      "OD_2016-09.csv\n",
      "OD_2016-10.csv\n",
      "OD_2016-11.csv\n",
      "OD_2017-04.csv\n",
      "OD_2017-05.csv\n",
      "OD_2017-06.csv\n",
      "OD_2017-07.csv\n",
      "OD_2017-08.csv\n",
      "OD_2017-09.csv\n",
      "OD_2017-10.csv\n",
      "OD_2017-11.csv\n",
      "OD_2018-04.csv\n",
      "OD_2018-05.csv\n",
      "OD_2018-06.csv\n",
      "OD_2018-07.csv\n",
      "OD_2018-08.csv\n",
      "OD_2018-09.csv\n",
      "OD_2018-10.csv\n",
      "OD_2018-11.csv\n",
      "Stations.csv\n"
     ]
    }
   ],
   "source": [
    "# Listing files:\n",
    "files = os.listdir(path)\n",
    "\n",
    "# Times series must be chronologically sorted\n",
    "files.sort()\n",
    "for f in files:\n",
    "    print(f)"
   ]
  },
  {
   "cell_type": "markdown",
   "id": "364039df",
   "metadata": {},
   "source": [
    "## Make a dataframe"
   ]
  },
  {
   "cell_type": "code",
   "execution_count": 4,
   "id": "e5ce309c",
   "metadata": {},
   "outputs": [
    {
     "name": "stdout",
     "output_type": "stream",
     "text": [
      "                start_date  start_station_code          end_date  \\\n",
      "0         2014-04-15 00:01                6209  2014-04-15 00:18   \n",
      "1         2014-04-15 00:01                6214  2014-04-15 00:11   \n",
      "2         2014-04-15 00:01                6164  2014-04-15 00:18   \n",
      "3         2014-04-15 00:01                6214  2014-04-15 00:24   \n",
      "4         2014-04-15 00:02                6149  2014-04-15 00:08   \n",
      "...                    ...                 ...               ...   \n",
      "20598132  2018-11-15 23:55                6154  2018-11-16 00:11   \n",
      "20598133  2018-11-15 23:56                6184  2018-11-16 00:00   \n",
      "20598134  2018-11-15 23:56                6734  2018-11-15 23:59   \n",
      "20598135  2018-11-15 23:57                6255  2018-11-16 00:00   \n",
      "20598136  2018-11-15 23:57                6248  2018-11-16 00:07   \n",
      "\n",
      "          end_station_code  duration_sec  is_member  \n",
      "0                     6436          1061          1  \n",
      "1                     6248           615          1  \n",
      "2                     6216          1031          1  \n",
      "3                     6082          1382          1  \n",
      "4                     6265           347          1  \n",
      "...                    ...           ...        ...  \n",
      "20598132              6211           924          1  \n",
      "20598133              6164           258          1  \n",
      "20598134              6324           197          1  \n",
      "20598135              6270           207          1  \n",
      "20598136              6017           565          1  \n",
      "\n",
      "[20598137 rows x 6 columns]\n"
     ]
    }
   ],
   "source": [
    "# Put these bitches in a single dataframe\n",
    "li = []\n",
    "\n",
    "for i in range(0, len(files) -1, 1):\n",
    "    df = pd.read_csv(path+files[i], index_col = None, header = 0)\n",
    "    li.append(df)\n",
    "\n",
    "frame = pd.concat(li, axis = 0, ignore_index = True)\n",
    "\n",
    "print(frame)"
   ]
  }
 ],
 "metadata": {
  "kernelspec": {
   "display_name": "Python 3",
   "language": "python",
   "name": "python3"
  },
  "language_info": {
   "codemirror_mode": {
    "name": "ipython",
    "version": 3
   },
   "file_extension": ".py",
   "mimetype": "text/x-python",
   "name": "python",
   "nbconvert_exporter": "python",
   "pygments_lexer": "ipython3",
   "version": "3.8.8"
  },
  "varInspector": {
   "cols": {
    "lenName": 16,
    "lenType": 16,
    "lenVar": 40
   },
   "kernels_config": {
    "python": {
     "delete_cmd_postfix": "",
     "delete_cmd_prefix": "del ",
     "library": "var_list.py",
     "varRefreshCmd": "print(var_dic_list())"
    },
    "r": {
     "delete_cmd_postfix": ") ",
     "delete_cmd_prefix": "rm(",
     "library": "var_list.r",
     "varRefreshCmd": "cat(var_dic_list()) "
    }
   },
   "types_to_exclude": [
    "module",
    "function",
    "builtin_function_or_method",
    "instance",
    "_Feature"
   ],
   "window_display": false
  }
 },
 "nbformat": 4,
 "nbformat_minor": 5
}
