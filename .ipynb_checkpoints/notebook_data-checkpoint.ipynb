{
 "cells": [
  {
   "cell_type": "code",
   "execution_count": 1,
   "id": "89428153",
   "metadata": {},
   "outputs": [],
   "source": [
    "import numpy as np\n",
    "import pandas as pd\n",
    "import glob\n",
    "import os"
   ]
  },
  {
   "cell_type": "markdown",
   "id": "0c748b53",
   "metadata": {},
   "source": [
    "## Importing the data:"
   ]
  },
  {
   "cell_type": "code",
   "execution_count": 2,
   "id": "1bcf1fb1",
   "metadata": {},
   "outputs": [
    {
     "name": "stdout",
     "output_type": "stream",
     "text": [
      "path: /Users/hugo/Downloads/COMP_6321_PROJECT/train_data/\n",
      "\n"
     ]
    }
   ],
   "source": [
    "# Get local path:\n",
    "path = os.getcwd()+\"/train_data/\"\n",
    "print(\"path: \"+ path+\"\\n\")"
   ]
  },
  {
   "cell_type": "markdown",
   "id": "0f7d1381",
   "metadata": {},
   "source": [
    "## Listing the training data from BIXI"
   ]
  },
  {
   "cell_type": "code",
   "execution_count": 3,
   "id": "77895abb",
   "metadata": {},
   "outputs": [
    {
     "name": "stdout",
     "output_type": "stream",
     "text": [
      "OD_2014-04.csv\n",
      "OD_2014-05.csv\n",
      "OD_2014-06.csv\n",
      "OD_2014-07.csv\n",
      "OD_2014-08.csv\n",
      "OD_2014-09.csv\n",
      "OD_2014-10.csv\n",
      "OD_2014-11.csv\n",
      "OD_2015-04.csv\n",
      "OD_2015-05.csv\n",
      "OD_2015-06.csv\n",
      "OD_2015-07.csv\n",
      "OD_2015-08.csv\n",
      "OD_2015-09.csv\n",
      "OD_2015-10.csv\n",
      "OD_2015-11.csv\n",
      "OD_2016-04.csv\n",
      "OD_2016-05.csv\n",
      "OD_2016-06.csv\n",
      "OD_2016-07.csv\n",
      "OD_2016-08.csv\n",
      "OD_2016-09.csv\n",
      "OD_2016-10.csv\n",
      "OD_2016-11.csv\n",
      "OD_2017-04.csv\n",
      "OD_2017-05.csv\n",
      "OD_2017-06.csv\n",
      "OD_2017-07.csv\n",
      "OD_2017-08.csv\n",
      "OD_2017-09.csv\n",
      "OD_2017-10.csv\n",
      "OD_2017-11.csv\n",
      "OD_2018-04.csv\n",
      "OD_2018-05.csv\n",
      "OD_2018-06.csv\n",
      "OD_2018-07.csv\n",
      "OD_2018-08.csv\n",
      "OD_2018-09.csv\n",
      "OD_2018-10.csv\n",
      "OD_2018-11.csv\n",
      "Stations.csv\n"
     ]
    }
   ],
   "source": [
    "# Listing files:\n",
    "files = os.listdir(path)\n",
    "\n",
    "# Times series must be chronologically sorted\n",
    "files.sort()\n",
    "for f in files:\n",
    "    print(f)"
   ]
  },
  {
   "cell_type": "markdown",
   "id": "364039df",
   "metadata": {},
   "source": [
    "## Make a dataframe"
   ]
  },
  {
   "cell_type": "code",
   "execution_count": 4,
   "id": "e5ce309c",
   "metadata": {},
   "outputs": [
    {
     "name": "stdout",
     "output_type": "stream",
     "text": [
      "                start_date  start_station_code          end_date  \\\n",
      "0         2014-04-15 00:01                6209  2014-04-15 00:18   \n",
      "1         2014-04-15 00:01                6214  2014-04-15 00:11   \n",
      "2         2014-04-15 00:01                6164  2014-04-15 00:18   \n",
      "3         2014-04-15 00:01                6214  2014-04-15 00:24   \n",
      "4         2014-04-15 00:02                6149  2014-04-15 00:08   \n",
      "...                    ...                 ...               ...   \n",
      "20598132  2018-11-15 23:55                6154  2018-11-16 00:11   \n",
      "20598133  2018-11-15 23:56                6184  2018-11-16 00:00   \n",
      "20598134  2018-11-15 23:56                6734  2018-11-15 23:59   \n",
      "20598135  2018-11-15 23:57                6255  2018-11-16 00:00   \n",
      "20598136  2018-11-15 23:57                6248  2018-11-16 00:07   \n",
      "\n",
      "          end_station_code  duration_sec  is_member  \n",
      "0                     6436          1061          1  \n",
      "1                     6248           615          1  \n",
      "2                     6216          1031          1  \n",
      "3                     6082          1382          1  \n",
      "4                     6265           347          1  \n",
      "...                    ...           ...        ...  \n",
      "20598132              6211           924          1  \n",
      "20598133              6164           258          1  \n",
      "20598134              6324           197          1  \n",
      "20598135              6270           207          1  \n",
      "20598136              6017           565          1  \n",
      "\n",
      "[20598137 rows x 6 columns]\n"
     ]
    }
   ],
   "source": [
    "# Put these in a single dataframe\n",
    "li = []\n",
    "\n",
    "for i in range(0, len(files) -1, 1):\n",
    "    df = pd.read_csv(path+files[i], index_col = None, header = 0)\n",
    "    li.append(df)\n",
    "\n",
    "bixi_frame = pd.concat(li, axis = 0, ignore_index = True)\n",
    "\n",
    "print(bixi_frame)"
   ]
  },
  {
   "cell_type": "markdown",
   "id": "baf908b4",
   "metadata": {},
   "source": [
    "## Import Weather Data"
   ]
  },
  {
   "cell_type": "code",
   "execution_count": 6,
   "id": "767e3681",
   "metadata": {},
   "outputs": [
    {
     "name": "stdout",
     "output_type": "stream",
     "text": [
      "path: /Users/hugo/Downloads/COMP_6321_PROJECT/train_data_weather/hourly/\n",
      "\n"
     ]
    }
   ],
   "source": [
    "# Get local path:\n",
    "path = os.getcwd()+\"/train_data_weather/hourly/\"\n",
    "print(\"path: \"+ path+\"\\n\")"
   ]
  },
  {
   "cell_type": "markdown",
   "id": "47fdc032",
   "metadata": {},
   "source": [
    "## Listing the hourly weather data"
   ]
  },
  {
   "cell_type": "code",
   "execution_count": 7,
   "id": "c59d2f8e",
   "metadata": {},
   "outputs": [
    {
     "name": "stdout",
     "output_type": "stream",
     "text": [
      ".DS_Store\n",
      "2014_04_McTavish.csv\n",
      "2014_05_McTavish.csv\n",
      "2014_06_McTavish.csv\n",
      "2014_07_McTavish.csv\n",
      "2014_08_McTavish.csv\n",
      "2014_09_McTavish.csv\n",
      "2014_10_McTavish.csv\n",
      "2014_11_McTavish.csv\n",
      "2014_12_McTavish.csv\n",
      "2015_04_McTavish.csv\n",
      "2015_05_McTavish.csv\n",
      "2015_06_McTavish.csv\n",
      "2015_07_McTavish.csv\n",
      "2015_08_McTavish.csv\n",
      "2015_09_McTavish.csv\n",
      "2015_10_McTavish.csv\n",
      "2015_11_McTavish.csv\n",
      "2015_12_McTavish.csv\n",
      "2016_04_McTavish.csv\n",
      "2016_05_McTavish.csv\n",
      "2016_06_McTavish.csv\n",
      "2016_07_McTavish.csv\n",
      "2016_08_McTavish.csv\n",
      "2016_09_McTavish.csv\n",
      "2016_10_McTavish.csv\n",
      "2016_11_McTavish.csv\n",
      "2016_12_McTavish.csv\n",
      "2017_04_McTavish.csv\n",
      "2017_05_McTavish.csv\n",
      "2017_06_McTavish.csv\n",
      "2017_07_McTavish.csv\n",
      "2017_08_McTavish.csv\n",
      "2017_09_McTavish.csv\n",
      "2017_10_McTavish.csv\n",
      "2017_11_McTavish.csv\n",
      "2017_12_McTavish.csv\n",
      "2018_04_McTavish.csv\n",
      "2018_05_McTavish.csv\n",
      "2018_06_McTavish.csv\n",
      "2018_07_McTavish.csv\n",
      "2018_08_McTavish.csv\n",
      "2018_09_McTavish.csv\n",
      "2018_10_McTavish.csv\n",
      "2018_11_McTavish.csv\n",
      "2018_12_McTavish.csv\n"
     ]
    }
   ],
   "source": [
    "# Listing files:\n",
    "files = os.listdir(path)\n",
    "\n",
    "# Times series must be chronologically sorted\n",
    "files.sort()\n",
    "for f in files:\n",
    "    print(f)"
   ]
  },
  {
   "cell_type": "markdown",
   "id": "4893ee0a",
   "metadata": {},
   "source": [
    "## Put the weather hourly data in a dataframe"
   ]
  },
  {
   "cell_type": "code",
   "execution_count": 8,
   "id": "42f74568",
   "metadata": {},
   "outputs": [
    {
     "name": "stdout",
     "output_type": "stream",
     "text": [
      "      Unnamed: 0  Longitude (x)  Latitude (y) Station Name  Climate ID  \\\n",
      "0            NaN         -73.58          45.5     MCTAVISH   7024745.0   \n",
      "1            NaN         -73.58          45.5     MCTAVISH   7024745.0   \n",
      "2            NaN         -73.58          45.5     MCTAVISH   7024745.0   \n",
      "3            NaN         -73.58          45.5     MCTAVISH   7024745.0   \n",
      "4            NaN         -73.58          45.5     MCTAVISH   7024745.0   \n",
      "...          ...            ...           ...          ...         ...   \n",
      "32203        NaN         -73.58          45.5     MCTAVISH   7024745.0   \n",
      "32204        NaN         -73.58          45.5     MCTAVISH   7024745.0   \n",
      "32205        NaN         -73.58          45.5     MCTAVISH   7024745.0   \n",
      "32206        NaN         -73.58          45.5     MCTAVISH   7024745.0   \n",
      "32207        NaN         -73.58          45.5     MCTAVISH   7024745.0   \n",
      "\n",
      "        Date/Time (LST)    Year  Month   Day Time (LST)  ...  Wind Spd Flag  \\\n",
      "0      2014-04-01 00:00  2014.0    4.0   1.0      00:00  ...            NaN   \n",
      "1      2014-04-01 01:00  2014.0    4.0   1.0      01:00  ...            NaN   \n",
      "2      2014-04-01 02:00  2014.0    4.0   1.0      02:00  ...            NaN   \n",
      "3      2014-04-01 03:00  2014.0    4.0   1.0      03:00  ...            NaN   \n",
      "4      2014-04-01 04:00  2014.0    4.0   1.0      04:00  ...            NaN   \n",
      "...                 ...     ...    ...   ...        ...  ...            ...   \n",
      "32203  2018-11-30 19:00  2018.0   11.0  30.0      19:00  ...            NaN   \n",
      "32204  2018-11-30 20:00  2018.0   11.0  30.0      20:00  ...            NaN   \n",
      "32205  2018-11-30 21:00  2018.0   11.0  30.0      21:00  ...            NaN   \n",
      "32206  2018-11-30 22:00  2018.0   11.0  30.0      22:00  ...            NaN   \n",
      "32207  2018-11-30 23:00  2018.0   11.0  30.0      23:00  ...            NaN   \n",
      "\n",
      "      Visibility (km)  Visibility Flag  Stn Press (kPa)  Stn Press Flag Hmdx  \\\n",
      "0                 NaN              NaN           101.51             NaN  NaN   \n",
      "1                 NaN              NaN           101.50             NaN  NaN   \n",
      "2                 NaN              NaN           101.46             NaN  NaN   \n",
      "3                 NaN              NaN           101.47             NaN  NaN   \n",
      "4                 NaN              NaN           101.45             NaN  NaN   \n",
      "...               ...              ...              ...             ...  ...   \n",
      "32203             NaN              NaN           100.91             NaN  NaN   \n",
      "32204             NaN              NaN           100.92             NaN  NaN   \n",
      "32205             NaN              NaN           100.96             NaN  NaN   \n",
      "32206             NaN              NaN           101.01             NaN  NaN   \n",
      "32207             NaN              NaN           101.03             NaN  NaN   \n",
      "\n",
      "       Hmdx Flag Wind Chill  Wind Chill Flag Weather  \n",
      "0            NaN        NaN              NaN     NaN  \n",
      "1            NaN       -2.0              NaN     NaN  \n",
      "2            NaN       -3.0              NaN     NaN  \n",
      "3            NaN       -5.0              NaN     NaN  \n",
      "4            NaN       -5.0              NaN     NaN  \n",
      "...          ...        ...              ...     ...  \n",
      "32203        NaN       -1.0              NaN     NaN  \n",
      "32204        NaN       -1.0              NaN     NaN  \n",
      "32205        NaN       -1.0              NaN     NaN  \n",
      "32206        NaN       -2.0              NaN     NaN  \n",
      "32207        NaN       -1.0              NaN     NaN  \n",
      "\n",
      "[32208 rows x 31 columns]\n"
     ]
    }
   ],
   "source": [
    "# Put these in a single dataframe\n",
    "li = []\n",
    "\n",
    "for i in range(0, len(files) -1, 1):\n",
    "    df = pd.read_csv(path+files[i], index_col = None, header = 0)\n",
    "    li.append(df)\n",
    "\n",
    "weather_frame = pd.concat(li, axis = 0, ignore_index = True)\n",
    "\n",
    "print(weather_frame)"
   ]
  },
  {
   "cell_type": "code",
   "execution_count": null,
   "id": "d94b2f38",
   "metadata": {},
   "outputs": [],
   "source": []
  }
 ],
 "metadata": {
  "kernelspec": {
   "display_name": "Python 3",
   "language": "python",
   "name": "python3"
  },
  "language_info": {
   "codemirror_mode": {
    "name": "ipython",
    "version": 3
   },
   "file_extension": ".py",
   "mimetype": "text/x-python",
   "name": "python",
   "nbconvert_exporter": "python",
   "pygments_lexer": "ipython3",
   "version": "3.8.8"
  },
  "varInspector": {
   "cols": {
    "lenName": 16,
    "lenType": 16,
    "lenVar": 40
   },
   "kernels_config": {
    "python": {
     "delete_cmd_postfix": "",
     "delete_cmd_prefix": "del ",
     "library": "var_list.py",
     "varRefreshCmd": "print(var_dic_list())"
    },
    "r": {
     "delete_cmd_postfix": ") ",
     "delete_cmd_prefix": "rm(",
     "library": "var_list.r",
     "varRefreshCmd": "cat(var_dic_list()) "
    }
   },
   "types_to_exclude": [
    "module",
    "function",
    "builtin_function_or_method",
    "instance",
    "_Feature"
   ],
   "window_display": false
  }
 },
 "nbformat": 4,
 "nbformat_minor": 5
}
